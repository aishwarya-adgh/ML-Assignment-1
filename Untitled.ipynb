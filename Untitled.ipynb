{
 "cells": [
  {
   "cell_type": "code",
   "execution_count": 2,
   "metadata": {},
   "outputs": [
    {
     "name": "stdout",
     "output_type": "stream",
     "text": [
      "\n",
      " Enter the principle Amount:2000\n",
      "\n",
      " Enter the time period:1\n",
      "\n",
      " Enter the rate of interest:4\n",
      "\n",
      " Simple Interest: 80.0\n"
     ]
    }
   ],
   "source": [
    "#program to simple interest\n",
    "p = int(input(\"\\n Enter the principle Amount:\"))\n",
    "t = int(input(\"\\n Enter the time period:\"))\n",
    "r = int(input(\"\\n Enter the rate of interest:\"))\n",
    "si = p*t*r/100\n",
    "print(\"\\n Simple Interest:\",si)"
   ]
  },
  {
   "cell_type": "code",
   "execution_count": 3,
   "metadata": {},
   "outputs": [
    {
     "name": "stdout",
     "output_type": "stream",
     "text": [
      "This sentence is output to the screen\n",
      "the value of a is: 5\n",
      "x: 1 2 3 4\n",
      "the value of x is 5 and y is 10\n",
      "I love bread and butter\n",
      "I love butter and bread\n"
     ]
    }
   ],
   "source": [
    "print('''This sentence is output to the screen''')\n",
    "a=5\n",
    "print(\"the value of a is:\",a)\n",
    "print('x:',1,2,3,4)\n",
    "x=5\n",
    "y=10\n",
    "print('the value of x is {} and y is {}'.format(x,y))\n",
    "print('I love {0} and {1}'.format('bread','butter'))\n",
    "print('I love {1} and {0}'.format('bread','butter'))"
   ]
  },
  {
   "cell_type": "code",
   "execution_count": 5,
   "metadata": {},
   "outputs": [
    {
     "name": "stdout",
     "output_type": "stream",
     "text": [
      "the value of x is 12.35\n",
      "the value of x is 12.3457\n"
     ]
    }
   ],
   "source": [
    "x =12.3456789\n",
    "print('the value of x is %3.2f' %x)\n",
    "print('the value of x is %3.4f' %x)"
   ]
  },
  {
   "cell_type": "code",
   "execution_count": 6,
   "metadata": {},
   "outputs": [
    {
     "name": "stdout",
     "output_type": "stream",
     "text": [
      " 1   1    1\n",
      " 2   4    8\n",
      " 3   9   27\n",
      " 4  16   64\n",
      " 5  25  125\n",
      " 6  36  216\n",
      " 7  49  343\n",
      " 8  64  512\n",
      " 9  81  729\n",
      "10 100 1000\n"
     ]
    }
   ],
   "source": [
    "for x in range(1,11):\n",
    "    print('{0:2d} {1:3d} {2:4d}'.format(x, x*x, x*x*x))"
   ]
  },
  {
   "cell_type": "code",
   "execution_count": 7,
   "metadata": {},
   "outputs": [
    {
     "name": "stdout",
     "output_type": "stream",
     "text": [
      "Raju       ==> 9822991839\n",
      "Ravi       ==> 8762486478\n",
      "Rahul      ==> 9847726488\n"
     ]
    }
   ],
   "source": [
    "table = {'Raju':9822991839, 'Ravi':8762486478, 'Rahul':9847726488}\n",
    "for name, phone in table.items():\n",
    "    print('{0:10} ==> {1:10d}'.format(name,phone))\n",
    "        "
   ]
  },
  {
   "cell_type": "code",
   "execution_count": 8,
   "metadata": {},
   "outputs": [
    {
     "name": "stdout",
     "output_type": "stream",
     "text": [
      "the value of PI is approximately 3.142.\n"
     ]
    }
   ],
   "source": [
    "import math\n",
    "print('the value of PI is approximately %5.3f.'%math.pi)"
   ]
  },
  {
   "cell_type": "code",
   "execution_count": 9,
   "metadata": {},
   "outputs": [
    {
     "name": "stdout",
     "output_type": "stream",
     "text": [
      "enter a string:Mangalore Institute of Technology and Engineering\n",
      "the entered string is:Mangalore Institute of Technology and Engineering\n",
      "enter a integer:53\n",
      "the entered integer is: 53\n",
      "enter a floating point number:48.34\n",
      "the entered real number is: 48.34\n"
     ]
    }
   ],
   "source": [
    "x = input(\"enter a string:\")\n",
    "print(\"the entered string is:{0}\".format(x))\n",
    "y = int(input(\"enter a integer:\"))\n",
    "print(\"the entered integer is:\",y)\n",
    "z = float(input('enter a floating point number:'))\n",
    "print(\"the entered real number is:\",z)"
   ]
  },
  {
   "cell_type": "code",
   "execution_count": 11,
   "metadata": {},
   "outputs": [
    {
     "name": "stdout",
     "output_type": "stream",
     "text": [
      "x has a value of 1234\n",
      "y has a value of 121112\n",
      "['Monday', 'Tuesday', 'Wednesday', 'Thursday', 'Friday']\n",
      "{'one': 'Monday'}\n"
     ]
    }
   ],
   "source": [
    "x = ('1' + '2' + '3' + '4')\n",
    "y = '1' + '2' + '11' + '12'\n",
    "weekdays = ['Monday','Tuesday','Wednesday','Thursday','Friday']\n",
    "weekday = {'one':'Monday'}\n",
    "print(\"x has a value of\",x)\n",
    "print(\"y has a value of\",y)\n",
    "print(weekdays)\n",
    "print(weekday)"
   ]
  },
  {
   "cell_type": "code",
   "execution_count": 12,
   "metadata": {},
   "outputs": [
    {
     "name": "stdout",
     "output_type": "stream",
     "text": [
      "Hello\n"
     ]
    }
   ],
   "source": [
    "import os\n",
    "x = 'Hello'\n",
    "print(x)"
   ]
  },
  {
   "cell_type": "code",
   "execution_count": 13,
   "metadata": {},
   "outputs": [
    {
     "name": "stdout",
     "output_type": "stream",
     "text": [
      "-1\n",
      "the value of var is negative\n",
      "the value of var is negative\n"
     ]
    }
   ],
   "source": [
    "var = -1\n",
    "if var < 0:\n",
    "    print(var)\n",
    "    print(\"the value of var is negative\")\n",
    "if (var == -1):\n",
    "    print(\"the value of var is negative\")"
   ]
  },
  {
   "cell_type": "code",
   "execution_count": 14,
   "metadata": {},
   "outputs": [
    {
     "name": "stdout",
     "output_type": "stream",
     "text": [
      "the value of var is positive\n",
      "1\n"
     ]
    }
   ],
   "source": [
    "var = 1\n",
    "if var < 0:\n",
    "    print(\"the value of var is negative\")\n",
    "    print(var)\n",
    "else:\n",
    "    print(\"the value of var is positive\")\n",
    "    print(var)"
   ]
  },
  {
   "cell_type": "code",
   "execution_count": 16,
   "metadata": {},
   "outputs": [
    {
     "name": "stdout",
     "output_type": "stream",
     "text": [
      "B\n"
     ]
    }
   ],
   "source": [
    "score = 95\n",
    "if score >= 99:\n",
    "    print('A')\n",
    "elif score >=75:\n",
    "    print('B')\n",
    "elif score >= 60:\n",
    "    print('C')\n",
    "elif score >= 35:\n",
    "    print('D')\n",
    "else:\n",
    "    print('F')"
   ]
  },
  {
   "cell_type": "code",
   "execution_count": 17,
   "metadata": {},
   "outputs": [
    {
     "name": "stdout",
     "output_type": "stream",
     "text": [
      "first example\n",
      "item: 1\n",
      "item: 2\n",
      "item: 3\n",
      "item: 4\n",
      "item: 5\n",
      "second example\n",
      "First loop letter: A\n",
      "First loop letter: B\n",
      "First loop letter: C\n"
     ]
    }
   ],
   "source": [
    "print(\"first example\")\n",
    "for item in [1,2,3,4,5]:\n",
    "    print('item:', item)\n",
    "\n",
    "print(\"second example\")\n",
    "letters = ['A', 'B', 'C']\n",
    "for index in range(len(letters)):\n",
    "    print('First loop letter:',letters[index])"
   ]
  },
  {
   "cell_type": "code",
   "execution_count": 18,
   "metadata": {},
   "outputs": [
    {
     "name": "stdout",
     "output_type": "stream",
     "text": [
      "The count is: 0\n",
      "The count is: 1\n",
      "The count is: 2\n"
     ]
    }
   ],
   "source": [
    "count = 0\n",
    "while (count < 3):\n",
    "    print('The count is:', count)\n",
    "    count = count+1"
   ]
  },
  {
   "cell_type": "code",
   "execution_count": 19,
   "metadata": {},
   "outputs": [
    {
     "name": "stdout",
     "output_type": "stream",
     "text": [
      "list_1[0]: Maths\n",
      "list_2[1:5]: ['b', 1, 2, 3]\n"
     ]
    }
   ],
   "source": [
    "list_1 = ['Maths','programming',2016,2017,2018]\n",
    "list_2 = ['a', 'b', 1, 2, 3, 4, 5, 6, 7]\n",
    "print(\"list_1[0]:\",list_1[0])\n",
    "print(\"list_2[1:5]:\",list_2[1:5])"
   ]
  },
  {
   "cell_type": "code",
   "execution_count": 20,
   "metadata": {},
   "outputs": [
    {
     "name": "stdout",
     "output_type": "stream",
     "text": [
      "list_1 values: ['Maths', 'programming', 2016, 2017, 2018]\n",
      "list_1 values post append: ['Maths', 'programming', 2016, 2017, 2018, 2019]\n"
     ]
    }
   ],
   "source": [
    "print(\"list_1 values:\",list_1)\n",
    "list_1.append(2019)\n",
    "print(\"list_1 values post append:\",list_1)"
   ]
  },
  {
   "cell_type": "code",
   "execution_count": 21,
   "metadata": {},
   "outputs": [
    {
     "name": "stdout",
     "output_type": "stream",
     "text": [
      "values of list_1: ['Maths', 'programming', 2016, 2017, 2018, 2019]\n",
      "index 2 value: 2016\n",
      "Index 2's new value : 2015\n"
     ]
    }
   ],
   "source": [
    "print(\"values of list_1:\",list_1)\n",
    "print(\"index 2 value:\",list_1[2])\n",
    "list_1[2] = 2015;\n",
    "print(\"Index 2's new value :\",list_1[2])"
   ]
  },
  {
   "cell_type": "code",
   "execution_count": 23,
   "metadata": {},
   "outputs": [
    {
     "name": "stdout",
     "output_type": "stream",
     "text": [
      "list_1 values: ['Maths', 'programming', 2015, 2017, 2018, 2019]\n",
      "after deleting value at index 2: ['Maths', 'programming', 2015, 2017, 2018]\n"
     ]
    }
   ],
   "source": [
    "print(\"list_1 values:\",list_1)\n",
    "del list_1[5]\n",
    "print(\"after deleting value at index 2:\",list_1)\n"
   ]
  },
  {
   "cell_type": "code",
   "execution_count": 31,
   "metadata": {},
   "outputs": [
    {
     "name": "stdout",
     "output_type": "stream",
     "text": [
      "Length: 3\n",
      "Concatenation: [1, 2, 3, 4, 5, 6]\n",
      "Repetition: ['hello', 'hello', 'hello', 'hello']\n",
      "membership: True\n",
      "iteration:\n",
      "1\n",
      "2\n",
      "3\n",
      "slicing: b\n",
      "slicing range: ['b', 'c']\n",
      "max of list: 5\n",
      "min of list: 1\n",
      "Count number of 1 in list: 2\n",
      "Extended: ['a', 'b', 'c', 'a', 'b', 1, 2, 3, 4, 5, 6, 7]\n",
      "index for a: 0\n",
      "['a', 'b', 'c', 'a', 'b', 1, 2, 3, 4, 5, 6, 7]\n",
      "pop last item in list: 7\n",
      "['a', 'b', 'c', 'a', 'b', 1, 2, 3, 4, 5, 6]\n",
      "pop last item with index 2: c\n",
      "removed b from list: ['a', 'a', 'b', 1, 2, 3, 4, 5, 6]\n",
      "reverse: [6, 5, 4, 3, 2, 1, 'b', 'a', 'a']\n",
      "sort ascending: ['a', 'b', 'c']\n",
      "Sort descending: ['c', 'b', 'a']\n"
     ]
    }
   ],
   "source": [
    "#Basic operation\n",
    "import string\n",
    "import operator\n",
    "\n",
    "print(\"Length:\",len(list_1))\n",
    "print(\"Concatenation:\",[1,2,3]+[4,5,6])\n",
    "print(\"Repetition:\",['hello']*4)\n",
    "print(\"membership:\",3 in [1,2,3])\n",
    "print(\"iteration:\")\n",
    "for x in [1,2,3]:print(x)\n",
    "print(\"slicing:\",list_1[-2])\n",
    "print(\"slicing range:\",list_1[1:])\n",
    "print(\"max of list:\",max([1,2,3,4,5]))\n",
    "print(\"min of list:\",min([1,2,3,4,5]))\n",
    "print(\"Count number of 1 in list:\",[1,1,2,3,4,5].count(1))\n",
    "list_1.extend(list_2)\n",
    "print(\"Extended:\",list_1)\n",
    "print(\"index for a:\",list_1.index('a'))\n",
    "print(list_1)\n",
    "print('pop last item in list:',list_1.pop())\n",
    "print(list_1)\n",
    "print(\"pop last item with index 2:\",list_1.pop(2))\n",
    "list_1.remove('b')\n",
    "print(\"removed b from list:\",list_1)\n",
    "list_1.reverse()\n",
    "print(\"reverse:\",list_1)\n",
    "list_1 = ['a','c','b']\n",
    "list_1.sort()\n",
    "print(\"sort ascending:\",list_1)\n",
    "list_1.sort(reverse = True)\n",
    "print(\"Sort descending:\",list_1)\n",
    "\n"
   ]
  },
  {
   "cell_type": "code",
   "execution_count": 32,
   "metadata": {},
   "outputs": [
    {
     "name": "stdout",
     "output_type": "stream",
     "text": [
      "Empty Tuple: ()\n",
      "Tuple with single item: (1,)\n",
      "sample Tuple: ('a', 'b', 'c', 'd', 1, 2, 3)\n"
     ]
    }
   ],
   "source": [
    "# tuples\n",
    "Tuple = ()\n",
    "print(\"Empty Tuple:\",Tuple)\n",
    "Tuple = (1,)\n",
    "print(\"Tuple with single item:\",Tuple)\n",
    "Tuple = ('a','b','c','d',1,2,3)\n",
    "print(\"sample Tuple:\",Tuple)"
   ]
  },
  {
   "cell_type": "code",
   "execution_count": 33,
   "metadata": {},
   "outputs": [
    {
     "name": "stdout",
     "output_type": "stream",
     "text": [
      "3rd item of Tuple: c\n",
      "First 3 items of tuple ('a', 'b')\n"
     ]
    }
   ],
   "source": [
    "# accessing items from tuple\n",
    "Tuple = ('a', 'b', 'c', 'd',1,2,3)\n",
    "print(\"3rd item of Tuple:\",Tuple[2])\n",
    "print(\"First 3 items of tuple\", Tuple[0:2])"
   ]
  },
  {
   "cell_type": "code",
   "execution_count": 34,
   "metadata": {},
   "outputs": [
    {
     "name": "stdout",
     "output_type": "stream",
     "text": [
      "sample tuple: ('a', 'b', 'c', 'd', 1, 2, 3)\n"
     ]
    },
    {
     "ename": "NameError",
     "evalue": "name 'Tuple' is not defined",
     "output_type": "error",
     "traceback": [
      "\u001b[1;31m---------------------------------------------------------------------------\u001b[0m",
      "\u001b[1;31mNameError\u001b[0m                                 Traceback (most recent call last)",
      "\u001b[1;32m<ipython-input-34-859a13ceef9b>\u001b[0m in \u001b[0;36m<module>\u001b[1;34m\u001b[0m\n\u001b[0;32m      2\u001b[0m \u001b[0mprint\u001b[0m\u001b[1;33m(\u001b[0m\u001b[1;34m\"sample tuple:\"\u001b[0m\u001b[1;33m,\u001b[0m\u001b[0mTuple\u001b[0m\u001b[1;33m)\u001b[0m\u001b[1;33m\u001b[0m\u001b[1;33m\u001b[0m\u001b[0m\n\u001b[0;32m      3\u001b[0m \u001b[1;32mdel\u001b[0m \u001b[0mTuple\u001b[0m\u001b[1;33m\u001b[0m\u001b[1;33m\u001b[0m\u001b[0m\n\u001b[1;32m----> 4\u001b[1;33m \u001b[0mprint\u001b[0m\u001b[1;33m(\u001b[0m\u001b[0mTuple\u001b[0m\u001b[1;33m)\u001b[0m\u001b[1;33m\u001b[0m\u001b[1;33m\u001b[0m\u001b[0m\n\u001b[0m",
      "\u001b[1;31mNameError\u001b[0m: name 'Tuple' is not defined"
     ]
    }
   ],
   "source": [
    "# deleting tuple\n",
    "print(\"sample tuple:\",Tuple)\n",
    "del Tuple\n",
    "print(Tuple)"
   ]
  },
  {
   "cell_type": "code",
   "execution_count": 36,
   "metadata": {},
   "outputs": [
    {
     "name": "stdout",
     "output_type": "stream",
     "text": [
      "length of Tuple: 7\n",
      "Concatinated Tuple: ('a', 'b', 'c', 'd', 1, 2, 3, 7, 8, 9)\n",
      "Repetation: (1, 'a', 2, 'b', 1, 'a', 2, 'b', 1, 'a', 2, 'b')\n",
      "Membership check: True\n",
      "1\n",
      "2\n",
      "3\n",
      "negative sign will retrieve item from right: 8\n",
      "Sliced Tuple [2:] ('c', 'd', 1, 2, 3, 7, 8, 9)\n",
      "Max of the tuple (1,2,3,4,5,6,7,8,9,10): 10\n",
      "Min of the tuple (1,2,3,4,5,6,7,8,9,10): 1\n",
      "List [1,2,3,4] converted to tuple: <class 'tuple'>\n"
     ]
    }
   ],
   "source": [
    "Tuple = ('a', 'b', 'c', 'd',1,2,3)\n",
    "print(\"length of Tuple:\",len(Tuple))\n",
    "Tuple_Concat = Tuple + (7,8,9)\n",
    "print(\"Concatinated Tuple:\" , Tuple_Concat)\n",
    "\n",
    "print(\"Repetation:\", (1,'a',2,'b')*3)\n",
    "print(\"Membership check:\", 3 in (1,2,3))\n",
    "\n",
    "for x in (1,2,3): print(x)\n",
    "print(\"negative sign will retrieve item from right:\", Tuple_Concat[-2])\n",
    "print(\"Sliced Tuple [2:]\", Tuple_Concat[2:])\n",
    "print(\"Max of the tuple (1,2,3,4,5,6,7,8,9,10):\",max(1,2,3,4,5,6,7,8,9,10))\n",
    "print(\"Min of the tuple (1,2,3,4,5,6,7,8,9,10):\",min(1,2,3,4,5,6,7,8,9,10))\n",
    "print(\"List [1,2,3,4] converted to tuple:\", type(tuple([1,2,3,4])))\n"
   ]
  },
  {
   "cell_type": "code",
   "execution_count": 37,
   "metadata": {},
   "outputs": [
    {
     "name": "stdout",
     "output_type": "stream",
     "text": [
      "sample dictionary: {'Name': 'Jivin', 'Age': 6, 'Class': 'First'}\n"
     ]
    }
   ],
   "source": [
    "#Dictionary\n",
    "dict = {'Name':'Jivin', 'Age':6, 'Class':'First'}\n",
    "print(\"sample dictionary:\",dict)"
   ]
  },
  {
   "cell_type": "code",
   "execution_count": 38,
   "metadata": {},
   "outputs": [
    {
     "name": "stdout",
     "output_type": "stream",
     "text": [
      "value of key name, from sample dictionary: Jivin\n"
     ]
    }
   ],
   "source": [
    "print(\"value of key name, from sample dictionary:\",dict['Name'])"
   ]
  },
  {
   "cell_type": "code",
   "execution_count": 39,
   "metadata": {},
   "outputs": [
    {
     "name": "stdout",
     "output_type": "stream",
     "text": [
      "sample dictionary: {'Name': 'Jivin', 'Age': 6, 'Class': 'First'}\n",
      "1 Name Jivin\n",
      "2 Age 6\n",
      "3 Class First\n",
      "sample dictionary post deletion of items Name: {'Age': 6, 'Class': 'First'}\n",
      "dict post dict.clear(): {}\n"
     ]
    }
   ],
   "source": [
    "dict0 = {'Name': 'Jivin','Age':6,'Class':\"First\"}\n",
    "print(\"sample dictionary:\",dict0)\n",
    "k=1\n",
    "for i in dict0:\n",
    "    print(k,i,dict[i])\n",
    "    k=k+1\n",
    "del (dict0['Name'])\n",
    "print(\"sample dictionary post deletion of items Name:\",dict0)\n",
    "dict0 = {'Name':'Jivin','Age':6,'Class':'First'}\n",
    "dict0.clear()\n",
    "print(\"dict post dict.clear():\",dict0)\n",
    "dict = {'Name':'Jivin','Age':6,'Class':'First'}\n",
    "del(dict0)"
   ]
  },
  {
   "cell_type": "code",
   "execution_count": 40,
   "metadata": {},
   "outputs": [
    {
     "name": "stdout",
     "output_type": "stream",
     "text": [
      "Sample dictionary: {'Name': 'Jivin', 'Age': 6, 'Class': 'First'}\n",
      "Dictionary post age value update: {'Name': 'Jivin', 'Age': 6.5, 'Class': 'First'}\n"
     ]
    }
   ],
   "source": [
    "#update\n",
    "dict = {'Name': 'Jivin','Age':6,'Class':\"First\"}\n",
    "print(\"Sample dictionary:\",dict)\n",
    "dict['Age'] = 6.5\n",
    "print(\"Dictionary post age value update:\",dict)"
   ]
  },
  {
   "cell_type": "code",
   "execution_count": 41,
   "metadata": {},
   "outputs": [
    {
     "name": "stdout",
     "output_type": "stream",
     "text": [
      "Length of dict: 3\n",
      "Copy:\n",
      " {'Name': 'Jivin', 'Age': 6, 'Class': 'First'}\n",
      "Value for Age: 6\n",
      "dict items: dict_items([('Name', 'Jivin'), ('Age', 6), ('Class', 'First')])\n",
      "dict keys: dict_keys(['Name', 'Age', 'Class'])\n",
      "Value od dict: dict_values(['Jivin', 6, 'First'])\n",
      "dict1.update(dict2) =  {'Name': 'Jivin', 'Age': 6, 'Sex': 'male'}\n"
     ]
    }
   ],
   "source": [
    "dict = {'Name': 'Jivin','Age':6,'Class':\"First\"}\n",
    "print(\"Length of dict:\", len(dict))\n",
    "\n",
    "dict1 = dict.copy()\n",
    "print(\"Copy:\\n\",dict1)\n",
    "\n",
    "print(\"Value for Age:\", dict.get('Age'))\n",
    "\n",
    "print(\"dict items:\",dict.items())\n",
    "\n",
    "print(\"dict keys:\",dict.keys())\n",
    "\n",
    "print(\"Value od dict:\",dict.values())\n",
    "\n",
    "dict1 = {'Name': 'Jivin', 'Age': 6}\n",
    "dict2 = {'Sex': 'male' }\n",
    "dict1.update(dict2)\n",
    "print(\"dict1.update(dict2) = \", dict1)"
   ]
  },
  {
   "cell_type": "code",
   "execution_count": 42,
   "metadata": {},
   "outputs": [
    {
     "name": "stdout",
     "output_type": "stream",
     "text": [
      "Hello World\n"
     ]
    }
   ],
   "source": [
    "def someFunction():\n",
    "    print(\"Hello World\")\n",
    "someFunction()\n"
   ]
  },
  {
   "cell_type": "code",
   "execution_count": 44,
   "metadata": {},
   "outputs": [
    {
     "name": "stdout",
     "output_type": "stream",
     "text": [
      "7\n"
     ]
    }
   ],
   "source": [
    "def sum_two_numbers(x, y):\n",
    "        return x + y\n",
    "print(sum_two_numbers(3,4))"
   ]
  },
  {
   "cell_type": "code",
   "execution_count": 45,
   "metadata": {},
   "outputs": [
    {
     "name": "stdout",
     "output_type": "stream",
     "text": [
      "20\n"
     ]
    }
   ],
   "source": [
    "x=10\n",
    "def sum_two_numbers(y):\n",
    "    return x+y\n",
    "print(sum_two_numbers(10))"
   ]
  },
  {
   "cell_type": "code",
   "execution_count": 46,
   "metadata": {},
   "outputs": [
    {
     "name": "stdout",
     "output_type": "stream",
     "text": [
      "1\n",
      "2\n",
      "3\n"
     ]
    }
   ],
   "source": [
    "def sample_function(*args):\n",
    "    for a in args:\n",
    "        print(a)\n",
    "sample_function(1,2,3)"
   ]
  },
  {
   "cell_type": "code",
   "execution_count": 51,
   "metadata": {},
   "outputs": [
    {
     "name": "stdout",
     "output_type": "stream",
     "text": [
      "Name Aishwarya\n",
      "Age 20\n"
     ]
    }
   ],
   "source": [
    "def sample_function(**args):\n",
    "    for a in args:\n",
    "        print(a,args[a])\n",
    "        \n",
    "sample_function(Name='Aishwarya',Age=20)"
   ]
  },
  {
   "cell_type": "code",
   "execution_count": 52,
   "metadata": {},
   "outputs": [
    {
     "name": "stdout",
     "output_type": "stream",
     "text": [
      "FUNCTION ADD:\n",
      " 5\n",
      "LAMBDA ADD :\n",
      " 5\n"
     ]
    }
   ],
   "source": [
    "def add(x, y): \n",
    "    return x + y\n",
    "print(\"FUNCTION ADD:\\n\",add(3,2))\n",
    "\n",
    "add = lambda x, y : x + y \n",
    "print(\"LAMBDA ADD :\\n\",add(3,2))"
   ]
  },
  {
   "cell_type": "code",
   "execution_count": null,
   "metadata": {},
   "outputs": [],
   "source": []
  }
 ],
 "metadata": {
  "kernelspec": {
   "display_name": "Python 3",
   "language": "python",
   "name": "python3"
  },
  "language_info": {
   "codemirror_mode": {
    "name": "ipython",
    "version": 3
   },
   "file_extension": ".py",
   "mimetype": "text/x-python",
   "name": "python",
   "nbconvert_exporter": "python",
   "pygments_lexer": "ipython3",
   "version": "3.8.3"
  }
 },
 "nbformat": 4,
 "nbformat_minor": 4
}
